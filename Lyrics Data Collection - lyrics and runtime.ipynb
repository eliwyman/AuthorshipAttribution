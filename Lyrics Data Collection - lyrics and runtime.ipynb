{
 "cells": [
  {
   "cell_type": "markdown",
   "id": "c5e6c368",
   "metadata": {},
   "source": [
    "    See 'Lyrics Data Collection', the notebook is split after pulling the list of artists, song names"
   ]
  },
  {
   "cell_type": "markdown",
   "id": "8c8e1c27",
   "metadata": {},
   "source": [
    "# 1. Identify the data source, requirements"
   ]
  },
  {
   "cell_type": "markdown",
   "id": "5d9720eb",
   "metadata": {},
   "source": [
    "    Import libraries"
   ]
  },
  {
   "cell_type": "code",
   "execution_count": 29,
   "id": "6fd2cad8",
   "metadata": {},
   "outputs": [
    {
     "name": "stdout",
     "output_type": "stream",
     "text": [
      "Class 'Helper' v1.3 has been loaded\n"
     ]
    }
   ],
   "source": [
    "import pandas as pd\n",
    "\n",
    "# library helper\n",
    "# run: importnb-install from Conda before using\n",
    "from importnb import Notebook\n",
    "with Notebook(): \n",
    "    import Utility\n",
    "\n",
    "# custom helper class (from jupyter notebook)\n",
    "helper = Utility.Helper()\n",
    "\n",
    "from bs4 import BeautifulSoup\n",
    "import requests\n",
    "\n",
    "import re\n",
    "\n",
    "from string import ascii_lowercase\n",
    "\n",
    "from datetime import datetime\n",
    "\n",
    "# progress bars for long running functions\n",
    "from tqdm import tqdm\n",
    "\n",
    "import numpy as np"
   ]
  },
  {
   "cell_type": "code",
   "execution_count": 30,
   "id": "d8717b8d",
   "metadata": {},
   "outputs": [],
   "source": [
    "# reload changes in Jupyter notebooks\n",
    "from importlib import reload\n",
    "with Notebook(): __name__ == '__main__' and reload(Utility)"
   ]
  },
  {
   "cell_type": "markdown",
   "id": "3969d2ad",
   "metadata": {},
   "source": [
    "    Define constants and control variables"
   ]
  },
  {
   "cell_type": "code",
   "execution_count": 31,
   "id": "2ddfe0d2",
   "metadata": {},
   "outputs": [],
   "source": [
    "DATA_PATH = '../../data/'\n",
    "\n",
    "LYRICS_URL = 'https://www.lyrics.com'\n",
    "\n",
    "LYRICS_FILENAME = 'lyrics.csv'"
   ]
  },
  {
   "cell_type": "code",
   "execution_count": 32,
   "id": "9c8a2e4a",
   "metadata": {},
   "outputs": [
    {
     "data": {
      "text/html": [
       "<div>\n",
       "<style scoped>\n",
       "    .dataframe tbody tr th:only-of-type {\n",
       "        vertical-align: middle;\n",
       "    }\n",
       "\n",
       "    .dataframe tbody tr th {\n",
       "        vertical-align: top;\n",
       "    }\n",
       "\n",
       "    .dataframe thead th {\n",
       "        text-align: right;\n",
       "    }\n",
       "</style>\n",
       "<table border=\"1\" class=\"dataframe\">\n",
       "  <thead>\n",
       "    <tr style=\"text-align: right;\">\n",
       "      <th></th>\n",
       "      <th>artist_name</th>\n",
       "      <th>artist_URL</th>\n",
       "      <th>song_title</th>\n",
       "      <th>song_URL</th>\n",
       "      <th>song_lyrics</th>\n",
       "      <th>song_runtime</th>\n",
       "      <th>song_year</th>\n",
       "    </tr>\n",
       "  </thead>\n",
       "  <tbody>\n",
       "    <tr>\n",
       "      <th>0</th>\n",
       "      <td>A Band of Bees</td>\n",
       "      <td>artist/A-Band-of-Bees/526494</td>\n",
       "      <td>The Rip [On Track]</td>\n",
       "      <td>/lyric/29617041/A+Band+of+Bees/The+Rip+%5BOn+T...</td>\n",
       "      <td>As she walks in the room Scented and tall Hesi...</td>\n",
       "      <td>00:04:37</td>\n",
       "      <td>NaN</td>\n",
       "    </tr>\n",
       "    <tr>\n",
       "      <th>1</th>\n",
       "      <td>A Band of Bees</td>\n",
       "      <td>artist/A-Band-of-Bees/526494</td>\n",
       "      <td>Left Foot Stepdown</td>\n",
       "      <td>/lyric/10339897/A+Band+of+Bees/Left+Foot+Stepdown</td>\n",
       "      <td>I tremble down if your love\\nCrumbles down for...</td>\n",
       "      <td>00:04:06</td>\n",
       "      <td>NaN</td>\n",
       "    </tr>\n",
       "    <tr>\n",
       "      <th>2</th>\n",
       "      <td>A Band of Bees</td>\n",
       "      <td>artist/A-Band-of-Bees/526494</td>\n",
       "      <td>Horsemen</td>\n",
       "      <td>/lyric/13436377/A+Band+of+Bees/Horsemen</td>\n",
       "      <td>He was thinking like a madman He was jealous o...</td>\n",
       "      <td>00:03:28</td>\n",
       "      <td>NaN</td>\n",
       "    </tr>\n",
       "    <tr>\n",
       "      <th>3</th>\n",
       "      <td>A Band of Bees</td>\n",
       "      <td>artist/A-Band-of-Bees/526494</td>\n",
       "      <td>Chicken Payback (Madlib's Soul Distortion Voca...</td>\n",
       "      <td>/lyric/25986351/A+Band+of+Bees/Chicken+Payback...</td>\n",
       "      <td>Chicken  Pay the chicken back back  Pay the ch...</td>\n",
       "      <td>00:00:00</td>\n",
       "      <td>NaN</td>\n",
       "    </tr>\n",
       "    <tr>\n",
       "      <th>4</th>\n",
       "      <td>A Band of Bees</td>\n",
       "      <td>artist/A-Band-of-Bees/526494</td>\n",
       "      <td>These Are the Ghosts</td>\n",
       "      <td>/lyric/10328580/A+Band+of+Bees/These+Are+the+G...</td>\n",
       "      <td>You should think of a lesson As a weapon in lo...</td>\n",
       "      <td>00:03:08</td>\n",
       "      <td>NaN</td>\n",
       "    </tr>\n",
       "  </tbody>\n",
       "</table>\n",
       "</div>"
      ],
      "text/plain": [
       "      artist_name                    artist_URL  \\\n",
       "0  A Band of Bees  artist/A-Band-of-Bees/526494   \n",
       "1  A Band of Bees  artist/A-Band-of-Bees/526494   \n",
       "2  A Band of Bees  artist/A-Band-of-Bees/526494   \n",
       "3  A Band of Bees  artist/A-Band-of-Bees/526494   \n",
       "4  A Band of Bees  artist/A-Band-of-Bees/526494   \n",
       "\n",
       "                                          song_title  \\\n",
       "0                                 The Rip [On Track]   \n",
       "1                                 Left Foot Stepdown   \n",
       "2                                           Horsemen   \n",
       "3  Chicken Payback (Madlib's Soul Distortion Voca...   \n",
       "4                               These Are the Ghosts   \n",
       "\n",
       "                                            song_URL  \\\n",
       "0  /lyric/29617041/A+Band+of+Bees/The+Rip+%5BOn+T...   \n",
       "1  /lyric/10339897/A+Band+of+Bees/Left+Foot+Stepdown   \n",
       "2            /lyric/13436377/A+Band+of+Bees/Horsemen   \n",
       "3  /lyric/25986351/A+Band+of+Bees/Chicken+Payback...   \n",
       "4  /lyric/10328580/A+Band+of+Bees/These+Are+the+G...   \n",
       "\n",
       "                                         song_lyrics song_runtime  song_year  \n",
       "0  As she walks in the room Scented and tall Hesi...     00:04:37        NaN  \n",
       "1  I tremble down if your love\\nCrumbles down for...     00:04:06        NaN  \n",
       "2  He was thinking like a madman He was jealous o...     00:03:28        NaN  \n",
       "3  Chicken  Pay the chicken back back  Pay the ch...     00:00:00        NaN  \n",
       "4  You should think of a lesson As a weapon in lo...     00:03:08        NaN  "
      ]
     },
     "execution_count": 32,
     "metadata": {},
     "output_type": "execute_result"
    }
   ],
   "source": [
    "artist_df = pd.read_csv(DATA_PATH + LYRICS_FILENAME)\n",
    "\n",
    "artist_df.head()"
   ]
  },
  {
   "cell_type": "code",
   "execution_count": 33,
   "id": "2b52742f",
   "metadata": {},
   "outputs": [
    {
     "name": "stdout",
     "output_type": "stream",
     "text": [
      "Length of lyrics file:  1123907\n",
      "Song Lyrics N/A (error): 107197\n",
      "Song Lyrics not found 61071\n",
      "Song Lyrics not scraped: 46126\n",
      "Song Runtime not scraped: 0\n",
      "Song Year not scraped: 681539\n"
     ]
    }
   ],
   "source": [
    "print(\"Length of lyrics file: \", len(artist_df))\n",
    "\n",
    "print(\"Song Lyrics N/A (error):\", artist_df['song_lyrics'].isnull().sum())\n",
    "\n",
    "sl_not_found = (artist_df['song_lyrics'] == 'Not found').sum()\n",
    "print(\"Song Lyrics not found\", sl_not_found)\n",
    "\n",
    "print(\"Song Lyrics not scraped:\", artist_df['song_lyrics'].isnull().sum() - sl_not_found)\n",
    "\n",
    "print(\"Song Runtime not scraped:\", (artist_df['song_runtime'] == 0).sum())\n",
    "\n",
    "print(\"Song Year not scraped:\", artist_df['song_year'].isnull().sum())"
   ]
  },
  {
   "cell_type": "code",
   "execution_count": 34,
   "id": "e30e80d1",
   "metadata": {},
   "outputs": [],
   "source": [
    "# Cast Song Lyrics column to str using a dictionary:\n",
    "# artist_df = artist_df.astype({'song_lyrics': 'str'})\n",
    "\n",
    "# artist_df.dtypes"
   ]
  },
  {
   "cell_type": "markdown",
   "id": "b4eeb4ab",
   "metadata": {},
   "source": [
    "# 2. Establish connection, collect sample data, identify data format"
   ]
  },
  {
   "cell_type": "code",
   "execution_count": 35,
   "id": "5919496a",
   "metadata": {},
   "outputs": [],
   "source": [
    "# i = 0\n",
    "\n",
    "# song_url = LYRICS_URL + artist_df['song_URL'][i]\n",
    "# song_html = requests.get(song_url).text\n",
    "# song_soup = BeautifulSoup(song_html, 'html.parser')\n",
    "\n",
    "# song_runtime = song_soup.find('div', class_= re.compile('lyric-details')).find('dd', class_= re.compile('dd-margin')).findNext('dd').text\n",
    "\n",
    "# print('Song runtime:', song_runtime)\n",
    "\n",
    "# # The <pre> tag is inside <iframe>, so try to load it from iframe source URL:\n",
    "# song_lyrics = song_soup.find('pre', id='lyric-body-text').text\n",
    "\n",
    "# re.sub('\\r', '', song_lyrics).split('\\n')"
   ]
  },
  {
   "cell_type": "code",
   "execution_count": 36,
   "id": "4c43432c",
   "metadata": {},
   "outputs": [
    {
     "data": {
      "text/plain": [
       "(1123907, 7)"
      ]
     },
     "execution_count": 36,
     "metadata": {},
     "output_type": "execute_result"
    }
   ],
   "source": [
    "artist_df.shape"
   ]
  },
  {
   "cell_type": "markdown",
   "id": "e8cf9f75",
   "metadata": {},
   "source": [
    "# 3. Create function for bulk collection, transformation"
   ]
  },
  {
   "cell_type": "code",
   "execution_count": 37,
   "id": "4410d3f2",
   "metadata": {},
   "outputs": [],
   "source": [
    "# #DEBUGGING\n",
    "\n",
    "# print('song url: ', song_url)\n",
    "\n",
    "# print('song_runtime: ', song_runtime)\n",
    "\n",
    "# #print('song_lyrics: ', song_lyrics.text)\n",
    "\n",
    "# artist_df[i-5:i+1]"
   ]
  },
  {
   "cell_type": "code",
   "execution_count": 38,
   "id": "a71eee47",
   "metadata": {},
   "outputs": [],
   "source": [
    "# # look for index of next runtime == 0 (default for column)\n",
    "# curr = artist_df.index[artist_df.loc[:, 'song_runtime'] == 0][0]\n",
    "\n",
    "# interval_range = 118425\n",
    "# stop = curr + interval_range\n",
    "\n",
    "# print(\"Next iteration running from \", curr, \" to \", stop)"
   ]
  },
  {
   "cell_type": "code",
   "execution_count": null,
   "id": "9a9a7a21",
   "metadata": {},
   "outputs": [],
   "source": []
  },
  {
   "cell_type": "code",
   "execution_count": 39,
   "id": "22488d71",
   "metadata": {},
   "outputs": [],
   "source": [
    "# for i in tqdm(range(curr, stop)):\n",
    "#     song_url = LYRICS_URL + artist_df['song_URL'][i]\n",
    "#     song_html = requests.get(song_url).text\n",
    "#     song_soup = BeautifulSoup(song_html, 'html.parser')\n",
    "    \n",
    "#     # unfortunately lyric details are not always present, nor is time\n",
    "#     # we'll therefore save the runtime as 0:00 and then update it if present\n",
    "#     artist_df.at[i, 'song_runtime'] = datetime.strptime('0:00', '%M:%S').time()\n",
    "    \n",
    "#     song_details = song_soup.find('div', class_= re.compile('lyric-details'))\n",
    "    \n",
    "#     if (song_details != None): \n",
    "#         # the song runtime is most consistently next to the clock icon <i class=far fa-clock\">\n",
    "#         song_clock = song_details.find('i', class_= re.compile('fa-clock'))\n",
    "\n",
    "#         if (song_clock != None): \n",
    "#             song_runtime = song_clock.parent.find_next_sibling().text\n",
    "            \n",
    "#             song_runtime_mins = int(song_runtime.split(':')[-2])\n",
    "            \n",
    "#             if (song_runtime_mins >= 30):\n",
    "#                 artist_df.at[i, 'song_runtime'] = -1\n",
    "#                 continue\n",
    "\n",
    "#             #save runtime, converted to datetime format, to dataframe\n",
    "#             artist_df.at[i, 'song_runtime'] = datetime.strptime(song_runtime, '%M:%S').time()\n",
    "        \n",
    "#             # check for song year, beside clock\n",
    "#             if (song_clock.parent.find_previous_sibling() != None):\n",
    "#                 song_year = int(song_clock.parent.find_previous_sibling().text)\n",
    "                \n",
    "#                 #save song year\n",
    "#                 artist_df.at[i, 'song_year'] = song_year\n",
    "                \n",
    "#     song_lyrics = song_soup.find('pre', id='lyric-body-text')\n",
    "\n",
    "#     if (song_lyrics == None): \n",
    "#         artist_df.at[i, 'song_lyrics'] = 'Not found'\n",
    "#     else:\n",
    "#         # Set value at specified row/column pair, replacing '\\n' with ' '\n",
    "#         artist_df.at[i, 'song_lyrics'] = re.sub('\\r\\n', ' ', song_lyrics.text)"
   ]
  },
  {
   "cell_type": "code",
   "execution_count": 42,
   "id": "45a7726a",
   "metadata": {},
   "outputs": [],
   "source": [
    "# second pass\n",
    "indices = artist_df[artist_df['song_lyrics'].isnull()].index\n",
    "\n",
    "length_indices = len(indices)\n",
    "\n",
    "iteration_fraction = 1"
   ]
  },
  {
   "cell_type": "code",
   "execution_count": 44,
   "id": "1bf1e4d0",
   "metadata": {},
   "outputs": [
    {
     "name": "stdout",
     "output_type": "stream",
     "text": [
      "Before loop, Song Lyrics N/A (error): 88316\n"
     ]
    },
    {
     "name": "stderr",
     "output_type": "stream",
     "text": [
      "100%|█████████████████████████████████████████████████████████████████████████| 88316/88316 [26:10:45<00:00,  1.07s/it]\n"
     ]
    },
    {
     "name": "stdout",
     "output_type": "stream",
     "text": [
      "After loop, Song Lyrics N/A (error): 0\n"
     ]
    }
   ],
   "source": [
    "# second pass\n",
    "\n",
    "print(\"Before loop, Song Lyrics N/A (error):\", artist_df['song_lyrics'].isnull().sum())\n",
    "\n",
    "for i in tqdm(range(0, round(len(indices) / iteration_fraction))):\n",
    "    \n",
    "    index = indices[i]\n",
    "    \n",
    "    song_url = LYRICS_URL + artist_df.iloc[index]['song_URL']\n",
    "    song_html = requests.get(song_url).text\n",
    "    song_soup = BeautifulSoup(song_html, 'html.parser')\n",
    "    \n",
    "    song_lyrics = song_soup.find('pre', id='lyric-body-text')\n",
    "\n",
    "    if (song_lyrics == None): \n",
    "        artist_df.at[index, 'song_lyrics'] = 'Not found'\n",
    "    else:\n",
    "        # Set value at specified row/column pair, replacing '\\n' with ' '\n",
    "        artist_df.at[index, 'song_lyrics'] = re.sub('\\r\\n', ' ', song_lyrics.text)\n",
    "        \n",
    "print(\"After loop, Song Lyrics N/A (error):\", artist_df['song_lyrics'].isnull().sum())\n"
   ]
  },
  {
   "cell_type": "markdown",
   "id": "a544dbb3",
   "metadata": {},
   "source": [
    "# 4. Save data for later analysis"
   ]
  },
  {
   "cell_type": "code",
   "execution_count": 45,
   "id": "0628a88d",
   "metadata": {},
   "outputs": [],
   "source": [
    "artist_df.to_csv(DATA_PATH + LYRICS_FILENAME, index=False)"
   ]
  },
  {
   "cell_type": "code",
   "execution_count": null,
   "id": "de98e041",
   "metadata": {},
   "outputs": [],
   "source": []
  },
  {
   "cell_type": "code",
   "execution_count": 40,
   "id": "4fb5348d",
   "metadata": {},
   "outputs": [
    {
     "name": "stdout",
     "output_type": "stream",
     "text": [
      "0\n",
      "1\n",
      "2\n",
      "3\n",
      "4\n"
     ]
    }
   ],
   "source": [
    "# solve for UnicodeEncodeError: 'utf-8' codec can't encode characters in position 2046-2047: surrogates not allowed\n",
    "artist_save = artist_df\n",
    "\n",
    "artist_df['song_lyrics'].replace({r'[^\\x00-\\x7F]+':''}, regex=True, inplace=True)"
   ]
  }
 ],
 "metadata": {
  "kernelspec": {
   "display_name": "Python (dsfs)",
   "language": "python",
   "name": "dsfs"
  },
  "language_info": {
   "codemirror_mode": {
    "name": "ipython",
    "version": 3
   },
   "file_extension": ".py",
   "mimetype": "text/x-python",
   "name": "python",
   "nbconvert_exporter": "python",
   "pygments_lexer": "ipython3",
   "version": "3.8.8"
  }
 },
 "nbformat": 4,
 "nbformat_minor": 5
}
