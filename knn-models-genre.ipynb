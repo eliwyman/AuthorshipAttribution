{
 "cells": [
  {
   "cell_type": "code",
   "execution_count": 1,
   "metadata": {
    "execution": {
     "iopub.execute_input": "2022-11-28T17:37:56.678640Z",
     "iopub.status.busy": "2022-11-28T17:37:56.678074Z",
     "iopub.status.idle": "2022-11-28T17:37:56.683422Z",
     "shell.execute_reply": "2022-11-28T17:37:56.682250Z",
     "shell.execute_reply.started": "2022-11-28T17:37:56.678603Z"
    }
   },
   "outputs": [],
   "source": [
    "import numpy as np # linear algebra\n",
    "import pandas as pd # data processing, CSV file I/O (e.g. pd.read_csv)\n",
    "\n",
    "from sklearn.model_selection import train_test_split\n",
    "\n",
    "from sklearn.neighbors import KNeighborsClassifier"
   ]
  },
  {
   "cell_type": "code",
   "execution_count": 2,
   "metadata": {
    "execution": {
     "iopub.execute_input": "2022-11-28T17:37:56.685534Z",
     "iopub.status.busy": "2022-11-28T17:37:56.685005Z",
     "iopub.status.idle": "2022-11-28T17:37:56.694686Z",
     "shell.execute_reply": "2022-11-28T17:37:56.693606Z",
     "shell.execute_reply.started": "2022-11-28T17:37:56.685427Z"
    }
   },
   "outputs": [],
   "source": [
    "FILENAME = './data/model_input_covariates_bow.csv'\n",
    "\n",
    "RESULTS_FILENAME = './data/genre_results_bow_artist_eng.csv'\n",
    "\n",
    "DATETIME_FORMAT = '%H:%M:%S'"
   ]
  },
  {
   "cell_type": "code",
   "execution_count": 3,
   "metadata": {
    "execution": {
     "iopub.execute_input": "2022-11-28T17:37:56.697179Z",
     "iopub.status.busy": "2022-11-28T17:37:56.696439Z",
     "iopub.status.idle": "2022-11-28T17:37:56.707541Z",
     "shell.execute_reply": "2022-11-28T17:37:56.705739Z",
     "shell.execute_reply.started": "2022-11-28T17:37:56.697136Z"
    }
   },
   "outputs": [],
   "source": [
    "def MSE(a, b):\n",
    "    return ((a-b)**2).mean()\n",
    "\n",
    "def accuracy(a,b):\n",
    "    return (a == b).sum() / b.shape[0]"
   ]
  },
  {
   "cell_type": "code",
   "execution_count": 18,
   "metadata": {
    "execution": {
     "iopub.execute_input": "2022-11-28T17:37:56.713431Z",
     "iopub.status.busy": "2022-11-28T17:37:56.712070Z",
     "iopub.status.idle": "2022-11-28T17:38:25.105954Z",
     "shell.execute_reply": "2022-11-28T17:38:25.104853Z",
     "shell.execute_reply.started": "2022-11-28T17:37:56.713365Z"
    }
   },
   "outputs": [
    {
     "data": {
      "text/html": [
       "<div>\n",
       "<style scoped>\n",
       "    .dataframe tbody tr th:only-of-type {\n",
       "        vertical-align: middle;\n",
       "    }\n",
       "\n",
       "    .dataframe tbody tr th {\n",
       "        vertical-align: top;\n",
       "    }\n",
       "\n",
       "    .dataframe thead th {\n",
       "        text-align: right;\n",
       "    }\n",
       "</style>\n",
       "<table border=\"1\" class=\"dataframe\">\n",
       "  <thead>\n",
       "    <tr style=\"text-align: right;\">\n",
       "      <th></th>\n",
       "      <th>artist_name</th>\n",
       "      <th>song_title</th>\n",
       "      <th>song_runtime</th>\n",
       "      <th>song_year</th>\n",
       "      <th>song_word_count</th>\n",
       "      <th>song_genre</th>\n",
       "      <th>10</th>\n",
       "      <th>aber</th>\n",
       "      <th>act</th>\n",
       "      <th>actin</th>\n",
       "      <th>...</th>\n",
       "      <th>young</th>\n",
       "      <th>youre</th>\n",
       "      <th>youth</th>\n",
       "      <th>youve</th>\n",
       "      <th>youyou</th>\n",
       "      <th>yuh</th>\n",
       "      <th>zeit</th>\n",
       "      <th>zone</th>\n",
       "      <th>zu</th>\n",
       "      <th>zum</th>\n",
       "    </tr>\n",
       "  </thead>\n",
       "  <tbody>\n",
       "    <tr>\n",
       "      <th>0</th>\n",
       "      <td>a band of bees</td>\n",
       "      <td>the rip on track</td>\n",
       "      <td>00:04:37</td>\n",
       "      <td>0</td>\n",
       "      <td>122</td>\n",
       "      <td>NaN</td>\n",
       "      <td>0</td>\n",
       "      <td>0</td>\n",
       "      <td>0</td>\n",
       "      <td>0</td>\n",
       "      <td>...</td>\n",
       "      <td>0</td>\n",
       "      <td>0</td>\n",
       "      <td>0</td>\n",
       "      <td>0</td>\n",
       "      <td>0</td>\n",
       "      <td>0</td>\n",
       "      <td>0</td>\n",
       "      <td>0</td>\n",
       "      <td>0</td>\n",
       "      <td>0</td>\n",
       "    </tr>\n",
       "    <tr>\n",
       "      <th>1</th>\n",
       "      <td>a band of bees</td>\n",
       "      <td>left foot stepdown</td>\n",
       "      <td>00:04:06</td>\n",
       "      <td>0</td>\n",
       "      <td>201</td>\n",
       "      <td>NaN</td>\n",
       "      <td>0</td>\n",
       "      <td>0</td>\n",
       "      <td>0</td>\n",
       "      <td>0</td>\n",
       "      <td>...</td>\n",
       "      <td>0</td>\n",
       "      <td>4</td>\n",
       "      <td>0</td>\n",
       "      <td>0</td>\n",
       "      <td>0</td>\n",
       "      <td>0</td>\n",
       "      <td>0</td>\n",
       "      <td>0</td>\n",
       "      <td>0</td>\n",
       "      <td>0</td>\n",
       "    </tr>\n",
       "    <tr>\n",
       "      <th>2</th>\n",
       "      <td>a band of bees</td>\n",
       "      <td>horsemen</td>\n",
       "      <td>00:03:28</td>\n",
       "      <td>0</td>\n",
       "      <td>238</td>\n",
       "      <td>NaN</td>\n",
       "      <td>0</td>\n",
       "      <td>0</td>\n",
       "      <td>0</td>\n",
       "      <td>0</td>\n",
       "      <td>...</td>\n",
       "      <td>0</td>\n",
       "      <td>5</td>\n",
       "      <td>0</td>\n",
       "      <td>0</td>\n",
       "      <td>0</td>\n",
       "      <td>0</td>\n",
       "      <td>0</td>\n",
       "      <td>0</td>\n",
       "      <td>0</td>\n",
       "      <td>0</td>\n",
       "    </tr>\n",
       "    <tr>\n",
       "      <th>3</th>\n",
       "      <td>a band of bees</td>\n",
       "      <td>chicken payback madlibs soul distortion vocal ...</td>\n",
       "      <td>00:00:00</td>\n",
       "      <td>0</td>\n",
       "      <td>283</td>\n",
       "      <td>NaN</td>\n",
       "      <td>0</td>\n",
       "      <td>0</td>\n",
       "      <td>0</td>\n",
       "      <td>0</td>\n",
       "      <td>...</td>\n",
       "      <td>0</td>\n",
       "      <td>0</td>\n",
       "      <td>0</td>\n",
       "      <td>0</td>\n",
       "      <td>0</td>\n",
       "      <td>0</td>\n",
       "      <td>0</td>\n",
       "      <td>0</td>\n",
       "      <td>0</td>\n",
       "      <td>0</td>\n",
       "    </tr>\n",
       "    <tr>\n",
       "      <th>4</th>\n",
       "      <td>a band of bees</td>\n",
       "      <td>these are the ghosts</td>\n",
       "      <td>00:03:08</td>\n",
       "      <td>0</td>\n",
       "      <td>174</td>\n",
       "      <td>NaN</td>\n",
       "      <td>0</td>\n",
       "      <td>0</td>\n",
       "      <td>0</td>\n",
       "      <td>0</td>\n",
       "      <td>...</td>\n",
       "      <td>0</td>\n",
       "      <td>0</td>\n",
       "      <td>0</td>\n",
       "      <td>0</td>\n",
       "      <td>0</td>\n",
       "      <td>0</td>\n",
       "      <td>0</td>\n",
       "      <td>0</td>\n",
       "      <td>0</td>\n",
       "      <td>0</td>\n",
       "    </tr>\n",
       "  </tbody>\n",
       "</table>\n",
       "<p>5 rows × 2006 columns</p>\n",
       "</div>"
      ],
      "text/plain": [
       "      artist_name                                         song_title  \\\n",
       "0  a band of bees                                   the rip on track   \n",
       "1  a band of bees                                 left foot stepdown   \n",
       "2  a band of bees                                           horsemen   \n",
       "3  a band of bees  chicken payback madlibs soul distortion vocal ...   \n",
       "4  a band of bees                               these are the ghosts   \n",
       "\n",
       "  song_runtime  song_year  song_word_count song_genre  10  aber  act  actin  \\\n",
       "0     00:04:37          0              122        NaN   0     0    0      0   \n",
       "1     00:04:06          0              201        NaN   0     0    0      0   \n",
       "2     00:03:28          0              238        NaN   0     0    0      0   \n",
       "3     00:00:00          0              283        NaN   0     0    0      0   \n",
       "4     00:03:08          0              174        NaN   0     0    0      0   \n",
       "\n",
       "   ...  young  youre  youth  youve  youyou  yuh  zeit  zone  zu  zum  \n",
       "0  ...      0      0      0      0       0    0     0     0   0    0  \n",
       "1  ...      0      4      0      0       0    0     0     0   0    0  \n",
       "2  ...      0      5      0      0       0    0     0     0   0    0  \n",
       "3  ...      0      0      0      0       0    0     0     0   0    0  \n",
       "4  ...      0      0      0      0       0    0     0     0   0    0  \n",
       "\n",
       "[5 rows x 2006 columns]"
      ]
     },
     "execution_count": 18,
     "metadata": {},
     "output_type": "execute_result"
    }
   ],
   "source": [
    "# load all data and output\n",
    "df = pd.read_csv(FILENAME)\n",
    "\n",
    "df.head()"
   ]
  },
  {
   "cell_type": "code",
   "execution_count": 19,
   "metadata": {
    "execution": {
     "iopub.execute_input": "2022-11-28T17:38:25.107968Z",
     "iopub.status.busy": "2022-11-28T17:38:25.107623Z",
     "iopub.status.idle": "2022-11-28T17:38:25.313687Z",
     "shell.execute_reply": "2022-11-28T17:38:25.312472Z",
     "shell.execute_reply.started": "2022-11-28T17:38:25.107938Z"
    }
   },
   "outputs": [
    {
     "name": "stdout",
     "output_type": "stream",
     "text": [
      "Rows in full dataframe: 216675\n",
      "Rows in dataframe after removing rows where genre is NaN: 14808\n"
     ]
    }
   ],
   "source": [
    "# drop the rows where genre is NaN\n",
    "df_genre = df.dropna(subset=['song_genre'])\n",
    "\n",
    "print(\"Rows in full dataframe: {}\".format(df.shape[0]))\n",
    "print(\"Rows in dataframe after removing rows where genre is NaN: {}\".format(df_genre.shape[0]))"
   ]
  },
  {
   "cell_type": "code",
   "execution_count": 20,
   "metadata": {
    "execution": {
     "iopub.execute_input": "2022-11-28T17:38:25.315529Z",
     "iopub.status.busy": "2022-11-28T17:38:25.315194Z",
     "iopub.status.idle": "2022-11-28T17:38:25.509885Z",
     "shell.execute_reply": "2022-11-28T17:38:25.508669Z",
     "shell.execute_reply.started": "2022-11-28T17:38:25.315499Z"
    }
   },
   "outputs": [
    {
     "name": "stderr",
     "output_type": "stream",
     "text": [
      "<ipython-input-20-9f648c28f7e5>:2: SettingWithCopyWarning: \n",
      "A value is trying to be set on a copy of a slice from a DataFrame.\n",
      "Try using .loc[row_indexer,col_indexer] = value instead\n",
      "\n",
      "See the caveats in the documentation: https://pandas.pydata.org/pandas-docs/stable/user_guide/indexing.html#returning-a-view-versus-a-copy\n",
      "  df_genre['song_runtime'] = pd.to_datetime(df_genre['song_runtime'], format=DATETIME_FORMAT)\n"
     ]
    }
   ],
   "source": [
    "# convert datetime to datetime\n",
    "df_genre['song_runtime'] = pd.to_datetime(df_genre['song_runtime'], format=DATETIME_FORMAT)\n",
    "\n",
    "df_genre = df_genre.assign(song_runtime_secs=lambda x: (x['song_runtime'].dt.minute * 60 + x['song_runtime'].dt.second))\n",
    "\n",
    "artist_dummies = pd.get_dummies(df_genre['artist_name'].astype(object), prefix='artist', prefix_sep='_',)\n",
    "df_genre = pd.concat([df_genre, artist_dummies], axis=1)\n",
    "\n",
    "X = df_genre.drop(columns = ['artist_name', 'song_genre', 'song_title', 'song_runtime'])\n",
    "y = df_genre['song_genre']"
   ]
  },
  {
   "cell_type": "code",
   "execution_count": 21,
   "metadata": {
    "execution": {
     "iopub.execute_input": "2022-11-28T17:38:25.521674Z",
     "iopub.status.busy": "2022-11-28T17:38:25.520741Z",
     "iopub.status.idle": "2022-11-28T17:38:25.555688Z",
     "shell.execute_reply": "2022-11-28T17:38:25.554434Z",
     "shell.execute_reply.started": "2022-11-28T17:38:25.521623Z"
    }
   },
   "outputs": [
    {
     "data": {
      "text/html": [
       "<div>\n",
       "<style scoped>\n",
       "    .dataframe tbody tr th:only-of-type {\n",
       "        vertical-align: middle;\n",
       "    }\n",
       "\n",
       "    .dataframe tbody tr th {\n",
       "        vertical-align: top;\n",
       "    }\n",
       "\n",
       "    .dataframe thead th {\n",
       "        text-align: right;\n",
       "    }\n",
       "</style>\n",
       "<table border=\"1\" class=\"dataframe\">\n",
       "  <thead>\n",
       "    <tr style=\"text-align: right;\">\n",
       "      <th></th>\n",
       "      <th>song_year</th>\n",
       "      <th>song_word_count</th>\n",
       "      <th>10</th>\n",
       "      <th>aber</th>\n",
       "      <th>act</th>\n",
       "      <th>actin</th>\n",
       "      <th>acting</th>\n",
       "      <th>action</th>\n",
       "      <th>admit</th>\n",
       "      <th>adore</th>\n",
       "      <th>...</th>\n",
       "      <th>artist_zeca pagodinho</th>\n",
       "      <th>artist_zedd</th>\n",
       "      <th>artist_zero 7</th>\n",
       "      <th>artist_zezé di camargo &amp; luciano</th>\n",
       "      <th>artist_ziggy marley</th>\n",
       "      <th>artist_zion &amp; lennox</th>\n",
       "      <th>artist_zoé</th>\n",
       "      <th>artist_zucchero</th>\n",
       "      <th>artist_zz top</th>\n",
       "      <th>artist_zz ward</th>\n",
       "    </tr>\n",
       "  </thead>\n",
       "  <tbody>\n",
       "    <tr>\n",
       "      <th>40</th>\n",
       "      <td>0</td>\n",
       "      <td>435</td>\n",
       "      <td>0</td>\n",
       "      <td>0</td>\n",
       "      <td>0</td>\n",
       "      <td>0</td>\n",
       "      <td>0</td>\n",
       "      <td>0</td>\n",
       "      <td>0</td>\n",
       "      <td>0</td>\n",
       "      <td>...</td>\n",
       "      <td>0</td>\n",
       "      <td>0</td>\n",
       "      <td>0</td>\n",
       "      <td>0</td>\n",
       "      <td>0</td>\n",
       "      <td>0</td>\n",
       "      <td>0</td>\n",
       "      <td>0</td>\n",
       "      <td>0</td>\n",
       "      <td>0</td>\n",
       "    </tr>\n",
       "    <tr>\n",
       "      <th>77</th>\n",
       "      <td>0</td>\n",
       "      <td>271</td>\n",
       "      <td>0</td>\n",
       "      <td>0</td>\n",
       "      <td>0</td>\n",
       "      <td>0</td>\n",
       "      <td>0</td>\n",
       "      <td>0</td>\n",
       "      <td>0</td>\n",
       "      <td>0</td>\n",
       "      <td>...</td>\n",
       "      <td>0</td>\n",
       "      <td>0</td>\n",
       "      <td>0</td>\n",
       "      <td>0</td>\n",
       "      <td>0</td>\n",
       "      <td>0</td>\n",
       "      <td>0</td>\n",
       "      <td>0</td>\n",
       "      <td>0</td>\n",
       "      <td>0</td>\n",
       "    </tr>\n",
       "    <tr>\n",
       "      <th>84</th>\n",
       "      <td>0</td>\n",
       "      <td>369</td>\n",
       "      <td>0</td>\n",
       "      <td>0</td>\n",
       "      <td>0</td>\n",
       "      <td>0</td>\n",
       "      <td>0</td>\n",
       "      <td>0</td>\n",
       "      <td>0</td>\n",
       "      <td>0</td>\n",
       "      <td>...</td>\n",
       "      <td>0</td>\n",
       "      <td>0</td>\n",
       "      <td>0</td>\n",
       "      <td>0</td>\n",
       "      <td>0</td>\n",
       "      <td>0</td>\n",
       "      <td>0</td>\n",
       "      <td>0</td>\n",
       "      <td>0</td>\n",
       "      <td>0</td>\n",
       "    </tr>\n",
       "    <tr>\n",
       "      <th>124</th>\n",
       "      <td>0</td>\n",
       "      <td>221</td>\n",
       "      <td>0</td>\n",
       "      <td>0</td>\n",
       "      <td>0</td>\n",
       "      <td>0</td>\n",
       "      <td>0</td>\n",
       "      <td>0</td>\n",
       "      <td>0</td>\n",
       "      <td>0</td>\n",
       "      <td>...</td>\n",
       "      <td>0</td>\n",
       "      <td>0</td>\n",
       "      <td>0</td>\n",
       "      <td>0</td>\n",
       "      <td>0</td>\n",
       "      <td>0</td>\n",
       "      <td>0</td>\n",
       "      <td>0</td>\n",
       "      <td>0</td>\n",
       "      <td>0</td>\n",
       "    </tr>\n",
       "    <tr>\n",
       "      <th>125</th>\n",
       "      <td>0</td>\n",
       "      <td>221</td>\n",
       "      <td>0</td>\n",
       "      <td>0</td>\n",
       "      <td>0</td>\n",
       "      <td>0</td>\n",
       "      <td>0</td>\n",
       "      <td>0</td>\n",
       "      <td>0</td>\n",
       "      <td>0</td>\n",
       "      <td>...</td>\n",
       "      <td>0</td>\n",
       "      <td>0</td>\n",
       "      <td>0</td>\n",
       "      <td>0</td>\n",
       "      <td>0</td>\n",
       "      <td>0</td>\n",
       "      <td>0</td>\n",
       "      <td>0</td>\n",
       "      <td>0</td>\n",
       "      <td>0</td>\n",
       "    </tr>\n",
       "  </tbody>\n",
       "</table>\n",
       "<p>5 rows × 7749 columns</p>\n",
       "</div>"
      ],
      "text/plain": [
       "     song_year  song_word_count  10  aber  act  actin  acting  action  admit  \\\n",
       "40           0              435   0     0    0      0       0       0      0   \n",
       "77           0              271   0     0    0      0       0       0      0   \n",
       "84           0              369   0     0    0      0       0       0      0   \n",
       "124          0              221   0     0    0      0       0       0      0   \n",
       "125          0              221   0     0    0      0       0       0      0   \n",
       "\n",
       "     adore  ...  artist_zeca pagodinho  artist_zedd  artist_zero 7  \\\n",
       "40       0  ...                      0            0              0   \n",
       "77       0  ...                      0            0              0   \n",
       "84       0  ...                      0            0              0   \n",
       "124      0  ...                      0            0              0   \n",
       "125      0  ...                      0            0              0   \n",
       "\n",
       "     artist_zezé di camargo & luciano  artist_ziggy marley  \\\n",
       "40                                  0                    0   \n",
       "77                                  0                    0   \n",
       "84                                  0                    0   \n",
       "124                                 0                    0   \n",
       "125                                 0                    0   \n",
       "\n",
       "     artist_zion & lennox  artist_zoé  artist_zucchero  artist_zz top  \\\n",
       "40                      0           0                0              0   \n",
       "77                      0           0                0              0   \n",
       "84                      0           0                0              0   \n",
       "124                     0           0                0              0   \n",
       "125                     0           0                0              0   \n",
       "\n",
       "     artist_zz ward  \n",
       "40                0  \n",
       "77                0  \n",
       "84                0  \n",
       "124               0  \n",
       "125               0  \n",
       "\n",
       "[5 rows x 7749 columns]"
      ]
     },
     "execution_count": 21,
     "metadata": {},
     "output_type": "execute_result"
    }
   ],
   "source": [
    "X.head()"
   ]
  },
  {
   "cell_type": "code",
   "execution_count": 22,
   "metadata": {
    "execution": {
     "iopub.execute_input": "2022-11-28T17:38:25.557471Z",
     "iopub.status.busy": "2022-11-28T17:38:25.557107Z",
     "iopub.status.idle": "2022-11-28T17:38:25.679288Z",
     "shell.execute_reply": "2022-11-28T17:38:25.677873Z",
     "shell.execute_reply.started": "2022-11-28T17:38:25.557438Z"
    }
   },
   "outputs": [],
   "source": [
    "X_train, X_val, y_train, y_val = \\\n",
    "train_test_split(X, y, test_size=0.2, random_state=1234)"
   ]
  },
  {
   "cell_type": "code",
   "execution_count": 23,
   "metadata": {
    "execution": {
     "iopub.execute_input": "2022-11-28T17:38:25.681906Z",
     "iopub.status.busy": "2022-11-28T17:38:25.681325Z",
     "iopub.status.idle": "2022-11-28T17:38:25.688293Z",
     "shell.execute_reply": "2022-11-28T17:38:25.687009Z",
     "shell.execute_reply.started": "2022-11-28T17:38:25.681856Z"
    }
   },
   "outputs": [],
   "source": [
    "k = 1"
   ]
  },
  {
   "cell_type": "code",
   "execution_count": 24,
   "metadata": {
    "execution": {
     "iopub.execute_input": "2022-11-28T17:38:25.691287Z",
     "iopub.status.busy": "2022-11-28T17:38:25.690475Z",
     "iopub.status.idle": "2022-11-28T17:38:25.738469Z",
     "shell.execute_reply": "2022-11-28T17:38:25.737107Z",
     "shell.execute_reply.started": "2022-11-28T17:38:25.691230Z"
    }
   },
   "outputs": [
    {
     "data": {
      "text/plain": [
       "KNeighborsClassifier(n_neighbors=1, p=1)"
      ]
     },
     "execution_count": 24,
     "metadata": {},
     "output_type": "execute_result"
    }
   ],
   "source": [
    "# p : int, default=2\n",
    "# Power parameter for the Minkowski metric. When p = 1, this is equivalent to using manhattan_distance (l1) \n",
    "neigh = KNeighborsClassifier(n_neighbors=k, p=1)\n",
    "neigh.fit(X_train, y_train)"
   ]
  },
  {
   "cell_type": "code",
   "execution_count": 25,
   "metadata": {
    "execution": {
     "iopub.execute_input": "2022-11-28T17:38:25.740181Z",
     "iopub.status.busy": "2022-11-28T17:38:25.739811Z",
     "iopub.status.idle": "2022-11-28T17:47:43.351744Z",
     "shell.execute_reply": "2022-11-28T17:47:43.350591Z",
     "shell.execute_reply.started": "2022-11-28T17:38:25.740149Z"
    }
   },
   "outputs": [],
   "source": [
    "# check training set performance\n",
    "y_hat_train = neigh.predict(X_train)"
   ]
  },
  {
   "cell_type": "code",
   "execution_count": 26,
   "metadata": {
    "execution": {
     "iopub.execute_input": "2022-11-28T17:47:43.355222Z",
     "iopub.status.busy": "2022-11-28T17:47:43.354876Z",
     "iopub.status.idle": "2022-11-28T17:50:37.255475Z",
     "shell.execute_reply": "2022-11-28T17:50:37.254384Z",
     "shell.execute_reply.started": "2022-11-28T17:47:43.355191Z"
    }
   },
   "outputs": [],
   "source": [
    "# check validation set performance\n",
    "y_hat_val = neigh.predict(X_val)"
   ]
  },
  {
   "cell_type": "code",
   "execution_count": 27,
   "metadata": {
    "execution": {
     "iopub.execute_input": "2022-11-28T17:50:37.257200Z",
     "iopub.status.busy": "2022-11-28T17:50:37.256885Z",
     "iopub.status.idle": "2022-11-28T17:50:37.285085Z",
     "shell.execute_reply": "2022-11-28T17:50:37.284242Z",
     "shell.execute_reply.started": "2022-11-28T17:50:37.257170Z"
    }
   },
   "outputs": [
    {
     "data": {
      "text/html": [
       "<div>\n",
       "<style scoped>\n",
       "    .dataframe tbody tr th:only-of-type {\n",
       "        vertical-align: middle;\n",
       "    }\n",
       "\n",
       "    .dataframe tbody tr th {\n",
       "        vertical-align: top;\n",
       "    }\n",
       "\n",
       "    .dataframe thead th {\n",
       "        text-align: right;\n",
       "    }\n",
       "</style>\n",
       "<table border=\"1\" class=\"dataframe\">\n",
       "  <thead>\n",
       "    <tr style=\"text-align: right;\">\n",
       "      <th></th>\n",
       "      <th>Model</th>\n",
       "      <th>parameters</th>\n",
       "      <th>X_format</th>\n",
       "      <th>Y_format</th>\n",
       "      <th>Training set performance (accuracy)</th>\n",
       "      <th>Validation set performance (accuracy)</th>\n",
       "    </tr>\n",
       "  </thead>\n",
       "  <tbody>\n",
       "    <tr>\n",
       "      <th>0</th>\n",
       "      <td>KNN Classifier</td>\n",
       "      <td>k=1</td>\n",
       "      <td>Bag of words (tfidf), ngram3, covariates</td>\n",
       "      <td>Genre</td>\n",
       "      <td>0.795627</td>\n",
       "      <td>0.211344</td>\n",
       "    </tr>\n",
       "  </tbody>\n",
       "</table>\n",
       "</div>"
      ],
      "text/plain": [
       "            Model parameters                                  X_format  \\\n",
       "0  KNN Classifier        k=1  Bag of words (tfidf), ngram3, covariates   \n",
       "\n",
       "  Y_format  Training set performance (accuracy)  \\\n",
       "0    Genre                             0.795627   \n",
       "\n",
       "   Validation set performance (accuracy)  \n",
       "0                               0.211344  "
      ]
     },
     "execution_count": 27,
     "metadata": {},
     "output_type": "execute_result"
    }
   ],
   "source": [
    "d = {\n",
    "    'Model': 'KNN Classifier', \n",
    "    'parameters': 'k=1',\n",
    "    'X_format': 'Bag of words (tfidf), ngram3, covariates',\n",
    "    'Y_format': 'Genre',\n",
    "    'Training set performance (accuracy)': accuracy(y_hat_train, y_train), \n",
    "    'Validation set performance (accuracy)': accuracy(y_hat_val, y_val)\n",
    "    }\n",
    "\n",
    "results = pd.DataFrame(data=d, index=[0])\n",
    "\n",
    "results  "
   ]
  },
  {
   "cell_type": "code",
   "execution_count": 28,
   "metadata": {
    "execution": {
     "iopub.execute_input": "2022-11-28T18:56:58.909691Z",
     "iopub.status.busy": "2022-11-28T18:56:58.909200Z",
     "iopub.status.idle": "2022-11-28T18:56:58.932540Z",
     "shell.execute_reply": "2022-11-28T18:56:58.930557Z",
     "shell.execute_reply.started": "2022-11-28T18:56:58.909657Z"
    }
   },
   "outputs": [],
   "source": [
    "results.to_csv(RESULTS_FILENAME, index=False)"
   ]
  }
 ],
 "metadata": {
  "kernelspec": {
   "display_name": "Python 3",
   "language": "python",
   "name": "python3"
  },
  "language_info": {
   "codemirror_mode": {
    "name": "ipython",
    "version": 3
   },
   "file_extension": ".py",
   "mimetype": "text/x-python",
   "name": "python",
   "nbconvert_exporter": "python",
   "pygments_lexer": "ipython3",
   "version": "3.8.8"
  }
 },
 "nbformat": 4,
 "nbformat_minor": 4
}
