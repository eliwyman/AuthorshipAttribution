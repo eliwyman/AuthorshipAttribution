{
 "cells": [
  {
   "cell_type": "markdown",
   "id": "8c8e1c27",
   "metadata": {},
   "source": [
    "# 1. Identify the data source, requirements"
   ]
  },
  {
   "cell_type": "markdown",
   "id": "5d9720eb",
   "metadata": {},
   "source": [
    "    Import libraries"
   ]
  },
  {
   "cell_type": "code",
   "execution_count": null,
   "id": "6fd2cad8",
   "metadata": {},
   "outputs": [],
   "source": [
    "import pandas as pd\n",
    "\n",
    "# library helper\n",
    "# run: importnb-install from Conda before using\n",
    "from importnb import Notebook\n",
    "with Notebook(): \n",
    "    import Utility\n",
    "\n",
    "# custom helper class (from jupyter notebook)\n",
    "helper = Utility.Helper()\n",
    "\n",
    "from bs4 import BeautifulSoup\n",
    "import requests\n",
    "\n",
    "import re\n",
    "\n",
    "from string import ascii_lowercase\n",
    "\n",
    "from datetime import datetime\n",
    "\n",
    "# progress bars for long running functions\n",
    "from tqdm import tqdm\n",
    "\n",
    "import numpy as np"
   ]
  },
  {
   "cell_type": "code",
   "execution_count": null,
   "id": "d8717b8d",
   "metadata": {},
   "outputs": [],
   "source": [
    "# reload changes in Jupyter notebooks\n",
    "from importlib import reload\n",
    "with Notebook(): __name__ == '__main__' and reload(Utility)"
   ]
  },
  {
   "cell_type": "markdown",
   "id": "3969d2ad",
   "metadata": {},
   "source": [
    "    Define constants and control variables"
   ]
  },
  {
   "cell_type": "code",
   "execution_count": null,
   "id": "2ddfe0d2",
   "metadata": {},
   "outputs": [],
   "source": [
    "DATA_PATH = '../../data/'\n",
    "\n",
    "LYRICS_URL = 'https://www.lyrics.com'\n",
    "\n",
    "LYRICS_FILENAME = 'lyrics.csv'"
   ]
  },
  {
   "cell_type": "code",
   "execution_count": null,
   "id": "9c8a2e4a",
   "metadata": {},
   "outputs": [],
   "source": [
    "artist_df = pd.read_csv(DATA_PATH + LYRICS_FILENAME)\n",
    "\n",
    "artist_df.head()"
   ]
  },
  {
   "cell_type": "code",
   "execution_count": null,
   "id": "2b52742f",
   "metadata": {},
   "outputs": [],
   "source": [
    "print(\"Length of lyrics file: \", len(artist_df))\n",
    "\n",
    "print(\"Song Lyrics N/A (error):\", artist_df['song_lyrics'].isnull().sum())\n",
    "\n",
    "sl_not_found = (artist_df['song_lyrics'] == 'Not found').sum()\n",
    "print(\"Song Lyrics not found\", sl_not_found)\n",
    "\n",
    "print(\"Song Lyrics not scraped:\", artist_df['song_lyrics'].isnull().sum() - sl_not_found)\n",
    "\n",
    "print(\"Song Runtime not scraped:\", (artist_df['song_runtime'] == 0).sum())\n",
    "\n",
    "print(\"Song Year not scraped:\", artist_df['song_year'].isnull().sum())"
   ]
  },
  {
   "cell_type": "code",
   "execution_count": null,
   "id": "e30e80d1",
   "metadata": {},
   "outputs": [],
   "source": [
    "# Cast Song Lyrics column to str using a dictionary:\n",
    "artist_df = artist_df.astype({'song_lyrics': 'str'})\n",
    "\n",
    "artist_df.dtypes"
   ]
  },
  {
   "cell_type": "markdown",
   "id": "b4eeb4ab",
   "metadata": {},
   "source": [
    "# 2. Establish connection, collect sample data, identify data format"
   ]
  },
  {
   "cell_type": "code",
   "execution_count": null,
   "id": "5919496a",
   "metadata": {},
   "outputs": [],
   "source": [
    "i = 0\n",
    "\n",
    "song_url = LYRICS_URL + artist_df['song_URL'][i]\n",
    "song_html = requests.get(song_url).text\n",
    "song_soup = BeautifulSoup(song_html, 'html.parser')\n",
    "\n",
    "song_runtime = song_soup.find('div', class_= re.compile('lyric-details')).find('dd', class_= re.compile('dd-margin')).findNext('dd').text\n",
    "\n",
    "print('Song runtime:', song_runtime)\n",
    "\n",
    "# The <pre> tag is inside <iframe>, so try to load it from iframe source URL:\n",
    "song_lyrics = song_soup.find('pre', id='lyric-body-text').text\n",
    "\n",
    "re.sub('\\r', '', song_lyrics).split('\\n')"
   ]
  },
  {
   "cell_type": "code",
   "execution_count": null,
   "id": "4c43432c",
   "metadata": {},
   "outputs": [],
   "source": [
    "artist_df.shape"
   ]
  },
  {
   "cell_type": "markdown",
   "id": "e8cf9f75",
   "metadata": {},
   "source": [
    "# 3. Create function for bulk collection, transformation"
   ]
  },
  {
   "cell_type": "code",
   "execution_count": null,
   "id": "22488d71",
   "metadata": {},
   "outputs": [],
   "source": [
    "for i in tqdm(range(curr, stop)):\n",
    "    song_url = LYRICS_URL + artist_df['song_URL'][i]\n",
    "    song_html = requests.get(song_url).text\n",
    "    song_soup = BeautifulSoup(song_html, 'html.parser')\n",
    "    \n",
    "    # unfortunately lyric details are not always present, nor is time\n",
    "    # we'll therefore save the runtime as 0:00 and then update it if present\n",
    "    artist_df.at[i, 'song_runtime'] = datetime.strptime('0:00', '%M:%S').time()\n",
    "    \n",
    "    song_details = song_soup.find('div', class_= re.compile('lyric-details'))\n",
    "    \n",
    "    if (song_details != None): \n",
    "        # the song runtime is most consistently next to the clock icon <i class=far fa-clock\">\n",
    "        song_clock = song_details.find('i', class_= re.compile('fa-clock'))\n",
    "\n",
    "        if (song_clock != None): \n",
    "            song_runtime = song_clock.parent.find_next_sibling().text\n",
    "            \n",
    "            song_runtime_mins = int(song_runtime.split(':')[-2])\n",
    "            \n",
    "            if (song_runtime_mins >= 30):\n",
    "                artist_df.at[i, 'song_runtime'] = -1\n",
    "                continue\n",
    "\n",
    "            #save runtime, converted to datetime format, to dataframe\n",
    "            artist_df.at[i, 'song_runtime'] = datetime.strptime(song_runtime, '%M:%S').time()\n",
    "        \n",
    "            # check for song year, beside clock\n",
    "            if (song_clock.parent.find_previous_sibling() != None):\n",
    "                song_year = int(song_clock.parent.find_previous_sibling().text)\n",
    "                \n",
    "                #save song year\n",
    "                artist_df.at[i, 'song_year'] = song_year\n",
    "                \n",
    "    song_lyrics = song_soup.find('pre', id='lyric-body-text')\n",
    "\n",
    "    if (song_lyrics == None): \n",
    "        artist_df.at[i, 'song_lyrics'] = 'Not found'\n",
    "    else:\n",
    "        # Set value at specified row/column pair, replacing '\\n' with ' '\n",
    "        artist_df.at[i, 'song_lyrics'] = re.sub('\\r\\n', ' ', song_lyrics.text)"
   ]
  },
  {
   "cell_type": "markdown",
   "id": "a544dbb3",
   "metadata": {},
   "source": [
    "# 4. Save data for later analysis"
   ]
  },
  {
   "cell_type": "code",
   "execution_count": null,
   "id": "0628a88d",
   "metadata": {},
   "outputs": [],
   "source": [
    "artist_df.to_csv(DATA_PATH + LYRICS_FILENAME, index=False)"
   ]
  },
  {
   "cell_type": "code",
   "execution_count": null,
   "id": "4fb5348d",
   "metadata": {},
   "outputs": [],
   "source": [
    "# solve for UnicodeEncodeError: 'utf-8' codec can't encode characters in position 2046-2047: surrogates not allowed\n",
    "artist_save = artist_df\n",
    "\n",
    "artist_df['song_lyrics'].replace({r'[^\\x00-\\x7F]+':''}, regex=True, inplace=True)"
   ]
  }
 ],
 "metadata": {
  "kernelspec": {
   "display_name": "Python (dsfs)",
   "language": "python",
   "name": "dsfs"
  },
  "language_info": {
   "codemirror_mode": {
    "name": "ipython",
    "version": 3
   },
   "file_extension": ".py",
   "mimetype": "text/x-python",
   "name": "python",
   "nbconvert_exporter": "python",
   "pygments_lexer": "ipython3",
   "version": "3.8.8"
  }
 },
 "nbformat": 4,
 "nbformat_minor": 5
}
