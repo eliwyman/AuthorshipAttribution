{
 "cells": [
  {
   "cell_type": "markdown",
   "id": "5af0f2bc",
   "metadata": {},
   "source": [
    "# 1. Identify the data source, requirements"
   ]
  },
  {
   "cell_type": "markdown",
   "id": "1798c794",
   "metadata": {},
   "source": [
    "Import libraries"
   ]
  },
  {
   "cell_type": "code",
   "execution_count": null,
   "id": "4ea768da",
   "metadata": {},
   "outputs": [],
   "source": [
    "import pandas as pd\n",
    "\n",
    "# library helper\n",
    "# run: importnb-install from Conda before using\n",
    "from importnb import Notebook\n",
    "with Notebook(): \n",
    "    import Utility\n",
    "\n",
    "# custom helper class (from jupyter notebook)\n",
    "helper = Utility.Helper()\n",
    "\n",
    "from bs4 import BeautifulSoup\n",
    "import requests\n",
    "\n",
    "import re\n",
    "\n",
    "from string import ascii_lowercase\n",
    "\n",
    "# progress bars for long running functions\n",
    "from tqdm import tqdm"
   ]
  },
  {
   "cell_type": "code",
   "execution_count": null,
   "id": "305a0cb7",
   "metadata": {},
   "outputs": [],
   "source": [
    "# reload changes in Jupyter notebooks\n",
    "from importlib import reload\n",
    "with Notebook(): __name__ == '__main__' and reload(Utility)"
   ]
  },
  {
   "cell_type": "code",
   "execution_count": null,
   "id": "b354672b",
   "metadata": {},
   "outputs": [],
   "source": [
    "DATA_PATH = '../../data/'\n",
    "\n",
    "SITE_URL = 'https://www.lyrics.com/'"
   ]
  },
  {
   "cell_type": "markdown",
   "id": "ed8ceb91",
   "metadata": {},
   "source": [
    "# 2. Identify data format, establish connection, collect sample data"
   ]
  },
  {
   "cell_type": "code",
   "execution_count": null,
   "id": "0f450b02",
   "metadata": {},
   "outputs": [],
   "source": [
    "genres_url = SITE_URL + \"all-genres/\"\n",
    "genres_html = requests.get(genres_url).text\n",
    "genres_soup = BeautifulSoup(genres_html, 'html5lib')\n",
    "\n",
    "genres_container = genres_soup.find('div', id='content-body').find('div', class_= re.compile(\"tags-list\")).find_all('div')"
   ]
  },
  {
   "cell_type": "code",
   "execution_count": null,
   "id": "17454e10",
   "metadata": {},
   "outputs": [],
   "source": [
    "genre_list = []\n",
    "genre_url = []\n",
    "\n",
    "for genre_container in genres_container:\n",
    "    genre_list.append(genre_container.find('a').text)\n",
    "    genre_url.append(genre_container.find('a').get('href'))\n",
    "\n",
    "# add pages per genre: \n",
    "# ['Blues','Brass & Military','Children','Classical', 'Electronic','Folk, World, & Country',\n",
    "# 'Funk / Soul','Hip Hop','Jazz', 'Latin','Non-Music','Pop','Reggae','Rock','Spiritual','Stage & Screen' ]\n",
    "genre_pages = [217, 2, 0, 34, 881, 765, 580, 596, 668, 241, 15, 1887, 134, 2668, 0, 119]\n",
    "\n",
    "genre_data = {'Genre Name': genre_list, 'Genre URL': genre_url, 'Genre Pages': genre_pages}\n",
    "\n",
    "genre_df = pd.DataFrame(data=genre_data)"
   ]
  },
  {
   "cell_type": "code",
   "execution_count": null,
   "id": "f5d7b6c8",
   "metadata": {},
   "outputs": [],
   "source": [
    "gname = []\n",
    "sname = []\n",
    "surl = []\n",
    "\n",
    "for i in tqdm(range(0, len(genre_list))):\n",
    "    \n",
    "    url = SITE_URL + genre_url[i]\n",
    "    url = url.replace(\" \", \"%20\")\n",
    "    \n",
    "    # loop through pages\n",
    "    for j in tqdm(range(1, genre_pages[i])):\n",
    "        \n",
    "        # base case, append page #\n",
    "        j_url = url + \"/\" + str(j)\n",
    "        \n",
    "        if (j == 1):\n",
    "            # 1st page doesn't need page #\n",
    "            j_url = url\n",
    "            \n",
    "        genre_html = requests.get(j_url).text\n",
    "        genre_soup = BeautifulSoup(genre_html, 'html5lib')\n",
    "        songs_soup = genre_soup.find('div', id='content-body').find_all('div', class_= re.compile('lyric-meta'))\n",
    "\n",
    "        for song_soup in songs_soup:\n",
    "\n",
    "            gname.append(genre_list[i])\n",
    "            sname.append(song_soup.find('p', class_= re.compile('lyric-meta')).find('a').text)\n",
    "            surl.append(song_soup.find('p', class_= re.compile('lyric-meta')).find('a').get('href'))"
   ]
  },
  {
   "cell_type": "code",
   "execution_count": null,
   "id": "9a90f61b",
   "metadata": {},
   "outputs": [],
   "source": [
    "d = {'Song Title': sname, 'Song URL': surl, 'Genre': gname}\n",
    "\n",
    "songsByGenre = pd.DataFrame(data=d)"
   ]
  },
  {
   "cell_type": "code",
   "execution_count": null,
   "id": "f35bdbe9",
   "metadata": {},
   "outputs": [],
   "source": [
    "print(\"Number of songs by genre:\", songsByGenre.shape[0])\n",
    "\n",
    "songsByGenre.head()"
   ]
  },
  {
   "cell_type": "code",
   "execution_count": null,
   "id": "4becc686",
   "metadata": {},
   "outputs": [],
   "source": [
    "songsByGenre.to_csv(DATA_PATH + \"songsByGenrePages.csv\", index=False)"
   ]
  }
 ],
 "metadata": {
  "kernelspec": {
   "display_name": "Python (dsfs)",
   "language": "python",
   "name": "dsfs"
  },
  "language_info": {
   "codemirror_mode": {
    "name": "ipython",
    "version": 3
   },
   "file_extension": ".py",
   "mimetype": "text/x-python",
   "name": "python",
   "nbconvert_exporter": "python",
   "pygments_lexer": "ipython3",
   "version": "3.8.8"
  }
 },
 "nbformat": 4,
 "nbformat_minor": 5
}
