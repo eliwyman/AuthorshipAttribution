{
 "cells": [
  {
   "cell_type": "code",
   "execution_count": null,
   "metadata": {
    "_cell_guid": "b1076dfc-b9ad-4769-8c92-a6c4dae69d19",
    "_uuid": "8f2839f25d086af736a60e9eeb907d3b93b6e0e5",
    "execution": {
     "iopub.execute_input": "2022-12-06T20:01:41.833374Z",
     "iopub.status.busy": "2022-12-06T20:01:41.832921Z",
     "iopub.status.idle": "2022-12-06T20:01:42.970285Z",
     "shell.execute_reply": "2022-12-06T20:01:42.968963Z",
     "shell.execute_reply.started": "2022-12-06T20:01:41.833267Z"
    }
   },
   "outputs": [],
   "source": [
    "# This Python 3 environment comes with many helpful analytics libraries installed\n",
    "# It is defined by the kaggle/python Docker image: https://github.com/kaggle/docker-python\n",
    "# For example, here's several helpful packages to load\n",
    "\n",
    "import numpy as np # linear algebra\n",
    "import pandas as pd # data processing, CSV file I/O (e.g. pd.read_csv)\n",
    "\n",
    "# Input data files are available in the read-only \"../input/\" directory\n",
    "# For example, running this (by clicking run or pressing Shift+Enter) will list all files under the input directory\n",
    "\n",
    "from sklearn.model_selection import train_test_split\n",
    "from sklearn.neural_network import MLPClassifier\n",
    "\n",
    "from tqdm import tqdm\n",
    "\n",
    "import os\n",
    "for dirname, _, filenames in os.walk('/kaggle/input'):\n",
    "    for filename in filenames:\n",
    "        print(os.path.join(dirname, filename))\n",
    "\n",
    "# You can write up to 20GB to the current directory (/kaggle/working/) that gets preserved as output when you create a version using \"Save & Run All\" \n",
    "# You can also write temporary files to /kaggle/temp/, but they won't be saved outside of the current session"
   ]
  },
  {
   "cell_type": "code",
   "execution_count": null,
   "metadata": {
    "execution": {
     "iopub.execute_input": "2022-12-06T20:01:42.973215Z",
     "iopub.status.busy": "2022-12-06T20:01:42.972774Z",
     "iopub.status.idle": "2022-12-06T20:01:42.979054Z",
     "shell.execute_reply": "2022-12-06T20:01:42.977832Z",
     "shell.execute_reply.started": "2022-12-06T20:01:42.973173Z"
    }
   },
   "outputs": [],
   "source": [
    "def accuracy(a,b):\n",
    "    return (a == b).sum() / b.shape[0]"
   ]
  },
  {
   "cell_type": "code",
   "execution_count": null,
   "metadata": {
    "execution": {
     "iopub.execute_input": "2022-12-06T20:01:42.981478Z",
     "iopub.status.busy": "2022-12-06T20:01:42.980655Z",
     "iopub.status.idle": "2022-12-06T20:01:42.989401Z",
     "shell.execute_reply": "2022-12-06T20:01:42.988246Z",
     "shell.execute_reply.started": "2022-12-06T20:01:42.981444Z"
    }
   },
   "outputs": [],
   "source": [
    "FILENAME = '/kaggle/input/lyrics-covariates-final/model_input_covariates_bow.csv'\n",
    "\n",
    "RESULTS_FILENAME = 'results_NN_covariates_bow_genre.csv'\n",
    "\n",
    "DATETIME_FORMAT = '%H:%M:%S'"
   ]
  },
  {
   "cell_type": "code",
   "execution_count": null,
   "metadata": {
    "execution": {
     "iopub.execute_input": "2022-12-06T20:01:42.992127Z",
     "iopub.status.busy": "2022-12-06T20:01:42.991801Z",
     "iopub.status.idle": "2022-12-06T20:02:36.494915Z",
     "shell.execute_reply": "2022-12-06T20:02:36.493763Z",
     "shell.execute_reply.started": "2022-12-06T20:01:42.992100Z"
    }
   },
   "outputs": [],
   "source": [
    "# load all data and output\n",
    "df = pd.read_csv(FILENAME)\n",
    "\n",
    "df.head()"
   ]
  },
  {
   "cell_type": "code",
   "execution_count": null,
   "metadata": {
    "execution": {
     "iopub.execute_input": "2022-12-06T20:02:36.496675Z",
     "iopub.status.busy": "2022-12-06T20:02:36.496355Z",
     "iopub.status.idle": "2022-12-06T20:02:48.480262Z",
     "shell.execute_reply": "2022-12-06T20:02:48.479155Z",
     "shell.execute_reply.started": "2022-12-06T20:02:36.496645Z"
    }
   },
   "outputs": [],
   "source": [
    "# convert datetime to datetime\n",
    "df['song_runtime'] = pd.to_datetime(df['song_runtime'], format=DATETIME_FORMAT)\n",
    "\n",
    "df = df.assign(song_runtime_secs=lambda x: (x['song_runtime'].dt.minute * 60 + x['song_runtime'].dt.second))\n",
    "\n",
    "X = df.drop(columns = ['song_genre', 'artist_name', 'song_title', 'song_runtime'])\n",
    "y = df['artist_name']"
   ]
  },
  {
   "cell_type": "code",
   "execution_count": null,
   "metadata": {
    "execution": {
     "iopub.execute_input": "2022-12-06T20:02:48.481823Z",
     "iopub.status.busy": "2022-12-06T20:02:48.481517Z",
     "iopub.status.idle": "2022-12-06T20:02:50.129499Z",
     "shell.execute_reply": "2022-12-06T20:02:50.128472Z",
     "shell.execute_reply.started": "2022-12-06T20:02:48.481795Z"
    }
   },
   "outputs": [],
   "source": [
    "# drop the rws where genre is NaN\n",
    "df_genre = df.dropna(subset=['song_genre'])\n",
    "\n",
    "print(\"Rows in full dataframe: {}\".format(df.shape[0]))\n",
    "print(\"Rows in dataframe after removing rows where genre is NaN: {}\".format(df_genre.shape[0]))\n",
    "\n",
    "# convert datetime to datetime\n",
    "df_genre['song_runtime'] = pd.to_datetime(df_genre['song_runtime'], format=DATETIME_FORMAT)\n",
    "\n",
    "df_genre = df_genre.assign(song_runtime_secs=lambda x: (x['song_runtime'].dt.minute * 60 + x['song_runtime'].dt.second))\n",
    "\n",
    "X = df_genre.drop(columns = ['song_genre', 'artist_name', 'song_title', 'song_runtime'])\n",
    "y = df_genre['song_genre']\n",
    "\n",
    "# conversion of X  into array\n",
    "# prevents warning X does not have valid feature names, but MLPClassifier was fitted with feature names\n",
    "X = X.values\n",
    "\n",
    "X_train, X_val, y_train, y_val = \\\n",
    "train_test_split(X, y, test_size=0.2, random_state=1234)"
   ]
  },
  {
   "cell_type": "code",
   "execution_count": null,
   "metadata": {
    "_kg_hide-output": true,
    "execution": {
     "iopub.execute_input": "2022-12-06T20:02:50.138361Z",
     "iopub.status.busy": "2022-12-06T20:02:50.138017Z",
     "iopub.status.idle": "2022-12-06T20:02:50.150276Z",
     "shell.execute_reply": "2022-12-06T20:02:50.149274Z",
     "shell.execute_reply.started": "2022-12-06T20:02:50.138332Z"
    }
   },
   "outputs": [],
   "source": [
    "static_parameters = []\n",
    "net_size_parameters = []\n",
    "hidden_layer_parameter = []\n",
    "batch_size_parameters = []\n",
    "\n",
    "# dynamic values\n",
    "size_values = [10, 100]\n",
    "batch_sizes = [32, 64, 128]\n",
    "train_perf = []\n",
    "val_perf = []\n",
    "\n",
    "# size of the network from https://stats.stackexchange.com/questions/181/how-to-choose-the-number-of-hidden-layers-and-nodes-in-a-feedforward-neural-netw\n",
    "# (ii) the number of neurons in that layer is the mean of the neurons in the input and output layers:\n",
    "# #input layers, #input layers/2, #input layers/4, #input layers/8, #input layers/16, #output layers\n",
    "for net_size in tqdm(size_values):\n",
    "\n",
    "    # batch_size:\n",
    "    for batch_size in tqdm(batch_sizes):\n",
    "\n",
    "        # HIDDEN LAYERS == 1\n",
    "\n",
    "        # 3 times the number of columns in your data\n",
    "        static_parameters.append('Epochs: 6000; Hidden layers: 1')\n",
    "        net_size_parameters.append(net_size)\n",
    "        batch_size_parameters.append(batch_size)                \n",
    "\n",
    "        nnclf = MLPClassifier(hidden_layer_sizes=(net_size,),# one hidden layer with net_size neurons\n",
    "                            activation='relu', # sigmoid\n",
    "                            solver='sgd', # optimization algorithm\n",
    "                            alpha=0.3, # Strength of the L2 regularization term\n",
    "                            learning_rate_init=0.1, # The initial learning rate used\n",
    "                            random_state=1234,\n",
    "                            max_iter=6000, # number of iterations (epochs for sgd)\n",
    "                            tol=1e-7, # convergence\n",
    "                            early_stopping=True \n",
    "        ) \n",
    "\n",
    "        nnclf.fit(X_train, y_train)\n",
    "\n",
    "        # check training set performance\n",
    "        y_hat_train = nnclf.predict(X_train)\n",
    "\n",
    "        train_perf.append( accuracy(y_hat_train, y_train) )\n",
    "\n",
    "        # check validation set performance\n",
    "        y_hat_val = nnclf.predict(X_val)\n",
    "\n",
    "        val_perf.append( accuracy(y_hat_val, y_val) )  \n",
    "\n",
    "        # HIDDEN LAYERS == 5\n",
    "        \n",
    "        # 3 times the number of columns in your data\n",
    "        static_parameters.append('Epochs: 6000; Hidden layers: 5')\n",
    "        net_size_parameters.append(net_size)\n",
    "        batch_size_parameters.append(batch_size)                \n",
    "\n",
    "        nnclf = MLPClassifier(hidden_layer_sizes=(net_size, net_size, net_size, net_size, net_size),# two hidden layers with net_size neurons\n",
    "                            activation='relu', # sigmoid\n",
    "                            solver='sgd', # optimization algorithm\n",
    "                            alpha=0.3, # Strength of the L2 regularization term\n",
    "                            learning_rate_init=0.1, # The initial learning rate used\n",
    "                            random_state=1234,\n",
    "                            max_iter=6000, # number of iterations (epochs for sgd)\n",
    "                            tol=1e-7, # convergence\n",
    "                            early_stopping=True \n",
    "        ) \n",
    "\n",
    "        nnclf.fit(X_train, y_train)\n",
    "\n",
    "        # check training set performance\n",
    "        y_hat_train = nnclf.predict(X_train)\n",
    "\n",
    "        train_perf.append( accuracy(y_hat_train, y_train) )\n",
    "\n",
    "        # check validation set performance\n",
    "        y_hat_val = nnclf.predict(X_val)\n",
    "\n",
    "        val_perf.append( accuracy(y_hat_val, y_val) )   "
   ]
  },
  {
   "cell_type": "code",
   "execution_count": null,
   "metadata": {
    "execution": {
     "iopub.execute_input": "2022-12-06T20:02:56.583088Z",
     "iopub.status.busy": "2022-12-06T20:02:56.576050Z",
     "iopub.status.idle": "2022-12-06T20:02:56.617495Z",
     "shell.execute_reply": "2022-12-06T20:02:56.616217Z",
     "shell.execute_reply.started": "2022-12-06T20:02:56.582710Z"
    }
   },
   "outputs": [],
   "source": [
    "d = {\n",
    "    'Static parameters': static_parameters,\n",
    "    'Number of neurons': net_size_parameters, \n",
    "    'Batch size': batch_size_parameters,\n",
    "    'Training set performance (MSE)': train_perf, \n",
    "    'Validation set performance (MSE)': val_perf\n",
    "}\n",
    "\n",
    "results = pd.DataFrame(data=d)\n",
    "\n",
    "results  "
   ]
  },
  {
   "cell_type": "code",
   "execution_count": null,
   "metadata": {
    "execution": {
     "iopub.execute_input": "2022-12-06T20:02:56.620375Z",
     "iopub.status.busy": "2022-12-06T20:02:56.619533Z",
     "iopub.status.idle": "2022-12-06T20:02:56.628982Z",
     "shell.execute_reply": "2022-12-06T20:02:56.628009Z",
     "shell.execute_reply.started": "2022-12-06T20:02:56.620332Z"
    }
   },
   "outputs": [],
   "source": [
    "results.to_csv(RESULTS_FILENAME, index=False)\n"
   ]
  }
 ],
 "metadata": {
  "kernelspec": {
   "display_name": "Python 3",
   "language": "python",
   "name": "python3"
  },
  "language_info": {
   "codemirror_mode": {
    "name": "ipython",
    "version": 3
   },
   "file_extension": ".py",
   "mimetype": "text/x-python",
   "name": "python",
   "nbconvert_exporter": "python",
   "pygments_lexer": "ipython3",
   "version": "3.8.8"
  }
 },
 "nbformat": 4,
 "nbformat_minor": 4
}
