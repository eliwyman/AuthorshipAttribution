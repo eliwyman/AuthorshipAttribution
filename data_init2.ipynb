{
 "cells": [
  {
   "cell_type": "code",
   "execution_count": 6,
   "metadata": {},
   "outputs": [],
   "source": [
    "import numpy as np ; import pandas as pd ; import re\n",
    "from sklearn.feature_extraction.text import CountVectorizer\n",
    "from sklearn.feature_extraction.text import TfidfVectorizer"
   ]
  },
  {
   "cell_type": "code",
   "execution_count": 7,
   "metadata": {},
   "outputs": [],
   "source": [
    "df_l = pd.read_csv(\"./data/lyrics.csv\")\n",
    "df_g = pd.read_csv(\"./data/songsbyGenrePages.csv\")"
   ]
  },
  {
   "cell_type": "code",
   "execution_count": 8,
   "metadata": {},
   "outputs": [],
   "source": [
    "def get_ID(song_URL):\n",
    "    x = re.search(r\"(\\/lyric\\/)(\\d+)\\/.*$\", song_URL)\n",
    "    if x :\n",
    "      return(x.group(2))"
   ]
  },
  {
   "cell_type": "code",
   "execution_count": 9,
   "metadata": {},
   "outputs": [],
   "source": [
    "def data_lyrics(df_lyrics, df_genres, output, tfid = False, ngram = 1):\n",
    "    if output not in [1, 2, 3]:\n",
    "        print(\"Wrong output type\")\n",
    "        exit\n",
    "    else :\n",
    "        pass\n",
    "    df_copy = df_lyrics.copy()\n",
    "    df_copy.columns = ['artist_name', 'artist_url', 'song_title', 'song_url', 'song_lyrics','song_runtime', 'song_year']\n",
    "    df_genres.columns = ['song_title', 'song_url', 'song_genre']\n",
    "\n",
    "    # Remove songs with no lyrics\n",
    "    df_copy['song_lyrics'].drop(df_copy[df_copy['song_lyrics'].str.contains(\"Not found\")==True].index, inplace = True)\n",
    "    \n",
    "    # Keep Only letters and space \n",
    "    # df_copy[\"song_lyrics\"].str.encode('utf-8').str.decode('ascii', 'ignore')\n",
    "    df_copy['song_lyrics'] = df_copy['song_lyrics'].astype(str)\n",
    "    df_copy[\"song_title\"] =  [re.sub(r'[^A-Za-z0-9 ]','', str(x)) for x in df_copy[\"song_title\"] ]\n",
    "    df_copy[\"song_lyrics\"] =  [re.sub(r'[^A-Za-z0-9 ]','', str(x)) for x in df_copy[\"song_lyrics\"] ]\n",
    "    df_copy[\"song_lyrics\"] = df_copy[\"song_lyrics\"].str.lower()\n",
    "    df_copy[\"song_title\"] = df_copy[\"song_title\"].str.lower()\n",
    "    df_copy[\"artist_name\"] = df_copy[\"artist_name\"].str.lower()\n",
    "    \n",
    "    # Check if there are some NaN values left and remove them\n",
    "    # df_copy.dropna(inplace = True)\n",
    "\n",
    "    # Make song's runtime time type\n",
    "    # df_copy.drop(df_copy[df_copy['song_runtime'] == '0'].index, inplace = True)\n",
    "    df_copy.loc[df_copy['song_runtime'] == '0', 'song_runtime'] = '00:00:00'\n",
    "    df_copy.loc[df_copy['song_runtime'] == '-1', 'song_runtime'] = '00:30:00'\n",
    "    df_copy['song_runtime'] = pd.to_datetime(df_copy['song_runtime']).dt.time\n",
    "   \n",
    "    # Make song's year year type\n",
    "    df_copy.loc[df_copy['song_year'].isnull() == True, 'song_year'] = 0\n",
    "    df_copy['song_year'] = df_copy['song_year'].astype(int)\n",
    "\n",
    "    # Create a word count column \n",
    "    df_copy['song_word_count'] = df_copy['song_lyrics'].str.split().str.len()\n",
    "    df_copy['song_word_count'].astype(int)\n",
    "\n",
    "    # Remove duplicates\n",
    "    df_copy.drop_duplicates(['song_lyrics'], inplace = True)\n",
    "    # Merge genres and lyrics\n",
    "    # attach IDs to dataframes\n",
    "    df_genres['song_ID'] = df_genres['song_url'].apply(get_ID)\n",
    "    df_copy['song_ID'] = df_copy['song_url'].apply(get_ID)\n",
    "    df_copy = df_copy.merge(df_genres, on=\"song_ID\", how = \"left\")\n",
    "    df_copy.rename({'song_title_x' : 'song_title'}, axis = 1, inplace = True)\n",
    "\n",
    "    df_copy.drop(['song_url_x','song_url_y', 'artist_url', 'song_ID', 'song_title_y'], axis=1, inplace=True)\n",
    "    # Create output\n",
    "    if output == 1:\n",
    "        df_copy.drop(['song_lyrics'], axis=1, inplace=True)\n",
    "        df_copy.to_csv('model_input_covariates.csv', index = False)\n",
    "    elif output == 2 and tfid == False:\n",
    "        vectorizer = CountVectorizer(stop_words='english', max_features=2000, ngram_range = (1, ngram))\n",
    "        bow = vectorizer.fit_transform(df_copy['song_lyrics'].str.lower().tolist())\n",
    "        df_bow = pd.DataFrame(bow.toarray(),columns=vectorizer.get_feature_names_out())\n",
    "        df_v = pd.concat([df_copy.reset_index(drop=True), df_bow.reset_index(drop=True)], axis = 1)\n",
    "        df_v.drop(['song_lyrics', 'song_title','song_word_count','song_runtime', 'song_year'], axis=1, inplace=True)\n",
    "        df_v.to_csv('model_input_bow_Tfid.csv', index = False)\n",
    "        df_v.to_csv('model_input_bow.csv', index = False)\n",
    "    elif output == 2 and tfid == True:\n",
    "        vectorizer = TfidfVectorizer(stop_words='english', max_features=2000, ngram_range = (1, ngram))\n",
    "        bow = vectorizer.fit_transform(df_copy['song_lyrics'].str.lower().tolist())\n",
    "        df_bow = pd.DataFrame(bow.toarray(),columns=vectorizer.get_feature_names_out())\n",
    "        df_v = pd.concat([df_copy.reset_index(drop=True), df_bow.reset_index(drop=True)], axis = 1)\n",
    "        df_v.drop(['song_lyrics', 'song_title','song_word_count','song_runtime', 'song_year'], axis=1, inplace=True)\n",
    "        df_v.to_csv('model_input_bow_Tfid.csv', index = False)\n",
    "    elif output == 3 and tfid == False:\n",
    "        vectorizer = CountVectorizer(stop_words='english', max_features=2000, ngram_range = (1, ngram))\n",
    "        bow = vectorizer.fit_transform(df_copy['song_lyrics'].str.lower().tolist())\n",
    "        df_bow = pd.DataFrame(bow.toarray(),columns=vectorizer.get_feature_names_out())\n",
    "        df_bow.index = df_bow.index.astype(int) ; df_copy.index = df_copy.index.astype(int)\n",
    "        df_v = pd.concat([df_copy.reset_index(drop=True), df_bow.reset_index(drop=True)], axis = 1)\n",
    "        df_v.drop(['song_lyrics'], axis=1, inplace=True)\n",
    "        df_v.to_csv('model_input_covariates_bow.csv', index = False)\n",
    "    elif output == 3 and tfid == True:\n",
    "        vectorizer = TfidfVectorizer(stop_words='english', max_features=2000, ngram_range = (1, ngram))\n",
    "        bow = vectorizer.fit_transform(df_copy['song_lyrics'].str.lower().tolist())\n",
    "        df_bow = pd.DataFrame(bow.toarray(),columns=vectorizer.get_feature_names_out())\n",
    "        df_bow.index = df_bow.index.astype(int) ; df_copy.index = df_copy.index.astype(int)\n",
    "        df_v = pd.concat([df_copy.reset_index(drop=True), df_bow.reset_index(drop=True)], axis = 1)\n",
    "        df_v.drop(['song_lyrics'], axis=1, inplace=True)\n",
    "        df_v.to_csv('model_input_covariates_bow_Tfid.csv', index = False)\n",
    "    "
   ]
  },
  {
   "cell_type": "code",
   "execution_count": 11,
   "metadata": {},
   "outputs": [
    {
     "ename": "AttributeError",
     "evalue": "'TfidfVectorizer' object has no attribute 'get_feature_names_out'",
     "output_type": "error",
     "traceback": [
      "\u001b[1;31m---------------------------------------------------------------------------\u001b[0m",
      "\u001b[1;31mAttributeError\u001b[0m                            Traceback (most recent call last)",
      "\u001b[1;32m<ipython-input-11-cf2a75099939>\u001b[0m in \u001b[0;36m<module>\u001b[1;34m\u001b[0m\n\u001b[0;32m      1\u001b[0m \u001b[0mdf_l\u001b[0m \u001b[1;33m=\u001b[0m \u001b[0mpd\u001b[0m\u001b[1;33m.\u001b[0m\u001b[0mread_csv\u001b[0m\u001b[1;33m(\u001b[0m\u001b[1;34m\"./data/lyrics.csv\"\u001b[0m\u001b[1;33m)\u001b[0m\u001b[1;33m\u001b[0m\u001b[1;33m\u001b[0m\u001b[0m\n\u001b[0;32m      2\u001b[0m \u001b[0mdf_g\u001b[0m \u001b[1;33m=\u001b[0m \u001b[0mpd\u001b[0m\u001b[1;33m.\u001b[0m\u001b[0mread_csv\u001b[0m\u001b[1;33m(\u001b[0m\u001b[1;34m\"./data/songsbyGenrePages.csv\"\u001b[0m\u001b[1;33m)\u001b[0m\u001b[1;33m\u001b[0m\u001b[1;33m\u001b[0m\u001b[0m\n\u001b[1;32m----> 3\u001b[1;33m \u001b[0mdata_lyrics\u001b[0m\u001b[1;33m(\u001b[0m\u001b[0mdf_l\u001b[0m\u001b[1;33m,\u001b[0m \u001b[0mdf_g\u001b[0m\u001b[1;33m,\u001b[0m \u001b[1;36m3\u001b[0m\u001b[1;33m,\u001b[0m \u001b[1;32mTrue\u001b[0m\u001b[1;33m,\u001b[0m\u001b[1;36m3\u001b[0m\u001b[1;33m)\u001b[0m\u001b[1;33m\u001b[0m\u001b[1;33m\u001b[0m\u001b[0m\n\u001b[0m\u001b[0;32m      4\u001b[0m \u001b[0mdf_l\u001b[0m \u001b[1;33m=\u001b[0m \u001b[0mpd\u001b[0m\u001b[1;33m.\u001b[0m\u001b[0mread_csv\u001b[0m\u001b[1;33m(\u001b[0m\u001b[1;34m\"./data/lyrics.csv\"\u001b[0m\u001b[1;33m)\u001b[0m\u001b[1;33m\u001b[0m\u001b[1;33m\u001b[0m\u001b[0m\n\u001b[0;32m      5\u001b[0m \u001b[0mdf_g\u001b[0m \u001b[1;33m=\u001b[0m \u001b[0mpd\u001b[0m\u001b[1;33m.\u001b[0m\u001b[0mread_csv\u001b[0m\u001b[1;33m(\u001b[0m\u001b[1;34m\"./data/songsbyGenrePages.csv\"\u001b[0m\u001b[1;33m)\u001b[0m\u001b[1;33m\u001b[0m\u001b[1;33m\u001b[0m\u001b[0m\n",
      "\u001b[1;32m<ipython-input-9-c910e0e72158>\u001b[0m in \u001b[0;36mdata_lyrics\u001b[1;34m(df_lyrics, df_genres, output, tfid, ngram)\u001b[0m\n\u001b[0;32m     78\u001b[0m         \u001b[0mvectorizer\u001b[0m \u001b[1;33m=\u001b[0m \u001b[0mTfidfVectorizer\u001b[0m\u001b[1;33m(\u001b[0m\u001b[0mstop_words\u001b[0m\u001b[1;33m=\u001b[0m\u001b[1;34m'english'\u001b[0m\u001b[1;33m,\u001b[0m \u001b[0mmax_features\u001b[0m\u001b[1;33m=\u001b[0m\u001b[1;36m2000\u001b[0m\u001b[1;33m,\u001b[0m \u001b[0mngram_range\u001b[0m \u001b[1;33m=\u001b[0m \u001b[1;33m(\u001b[0m\u001b[1;36m1\u001b[0m\u001b[1;33m,\u001b[0m \u001b[0mngram\u001b[0m\u001b[1;33m)\u001b[0m\u001b[1;33m)\u001b[0m\u001b[1;33m\u001b[0m\u001b[1;33m\u001b[0m\u001b[0m\n\u001b[0;32m     79\u001b[0m         \u001b[0mbow\u001b[0m \u001b[1;33m=\u001b[0m \u001b[0mvectorizer\u001b[0m\u001b[1;33m.\u001b[0m\u001b[0mfit_transform\u001b[0m\u001b[1;33m(\u001b[0m\u001b[0mdf_copy\u001b[0m\u001b[1;33m[\u001b[0m\u001b[1;34m'song_lyrics'\u001b[0m\u001b[1;33m]\u001b[0m\u001b[1;33m.\u001b[0m\u001b[0mstr\u001b[0m\u001b[1;33m.\u001b[0m\u001b[0mlower\u001b[0m\u001b[1;33m(\u001b[0m\u001b[1;33m)\u001b[0m\u001b[1;33m.\u001b[0m\u001b[0mtolist\u001b[0m\u001b[1;33m(\u001b[0m\u001b[1;33m)\u001b[0m\u001b[1;33m)\u001b[0m\u001b[1;33m\u001b[0m\u001b[1;33m\u001b[0m\u001b[0m\n\u001b[1;32m---> 80\u001b[1;33m         \u001b[0mdf_bow\u001b[0m \u001b[1;33m=\u001b[0m \u001b[0mpd\u001b[0m\u001b[1;33m.\u001b[0m\u001b[0mDataFrame\u001b[0m\u001b[1;33m(\u001b[0m\u001b[0mbow\u001b[0m\u001b[1;33m.\u001b[0m\u001b[0mtoarray\u001b[0m\u001b[1;33m(\u001b[0m\u001b[1;33m)\u001b[0m\u001b[1;33m,\u001b[0m\u001b[0mcolumns\u001b[0m\u001b[1;33m=\u001b[0m\u001b[0mvectorizer\u001b[0m\u001b[1;33m.\u001b[0m\u001b[0mget_feature_names_out\u001b[0m\u001b[1;33m(\u001b[0m\u001b[1;33m)\u001b[0m\u001b[1;33m)\u001b[0m\u001b[1;33m\u001b[0m\u001b[1;33m\u001b[0m\u001b[0m\n\u001b[0m\u001b[0;32m     81\u001b[0m         \u001b[0mdf_bow\u001b[0m\u001b[1;33m.\u001b[0m\u001b[0mindex\u001b[0m \u001b[1;33m=\u001b[0m \u001b[0mdf_bow\u001b[0m\u001b[1;33m.\u001b[0m\u001b[0mindex\u001b[0m\u001b[1;33m.\u001b[0m\u001b[0mastype\u001b[0m\u001b[1;33m(\u001b[0m\u001b[0mint\u001b[0m\u001b[1;33m)\u001b[0m \u001b[1;33m;\u001b[0m \u001b[0mdf_copy\u001b[0m\u001b[1;33m.\u001b[0m\u001b[0mindex\u001b[0m \u001b[1;33m=\u001b[0m \u001b[0mdf_copy\u001b[0m\u001b[1;33m.\u001b[0m\u001b[0mindex\u001b[0m\u001b[1;33m.\u001b[0m\u001b[0mastype\u001b[0m\u001b[1;33m(\u001b[0m\u001b[0mint\u001b[0m\u001b[1;33m)\u001b[0m\u001b[1;33m\u001b[0m\u001b[1;33m\u001b[0m\u001b[0m\n\u001b[0;32m     82\u001b[0m         \u001b[0mdf_v\u001b[0m \u001b[1;33m=\u001b[0m \u001b[0mpd\u001b[0m\u001b[1;33m.\u001b[0m\u001b[0mconcat\u001b[0m\u001b[1;33m(\u001b[0m\u001b[1;33m[\u001b[0m\u001b[0mdf_copy\u001b[0m\u001b[1;33m.\u001b[0m\u001b[0mreset_index\u001b[0m\u001b[1;33m(\u001b[0m\u001b[0mdrop\u001b[0m\u001b[1;33m=\u001b[0m\u001b[1;32mTrue\u001b[0m\u001b[1;33m)\u001b[0m\u001b[1;33m,\u001b[0m \u001b[0mdf_bow\u001b[0m\u001b[1;33m.\u001b[0m\u001b[0mreset_index\u001b[0m\u001b[1;33m(\u001b[0m\u001b[0mdrop\u001b[0m\u001b[1;33m=\u001b[0m\u001b[1;32mTrue\u001b[0m\u001b[1;33m)\u001b[0m\u001b[1;33m]\u001b[0m\u001b[1;33m,\u001b[0m \u001b[0maxis\u001b[0m \u001b[1;33m=\u001b[0m \u001b[1;36m1\u001b[0m\u001b[1;33m)\u001b[0m\u001b[1;33m\u001b[0m\u001b[1;33m\u001b[0m\u001b[0m\n",
      "\u001b[1;31mAttributeError\u001b[0m: 'TfidfVectorizer' object has no attribute 'get_feature_names_out'"
     ]
    }
   ],
   "source": [
    "df_l = pd.read_csv(\"./data/lyrics.csv\")\n",
    "df_g = pd.read_csv(\"./data/songsbyGenrePages.csv\")\n",
    "data_lyrics(df_l, df_g, 3, True,3)\n",
    "df_l = pd.read_csv(\"./data/lyrics.csv\")\n",
    "df_g = pd.read_csv(\"./data/songsbyGenrePages.csv\")\n",
    "data_lyrics(df_l, df_g, 2, False,3)"
   ]
  },
  {
   "cell_type": "code",
   "execution_count": 9,
   "metadata": {},
   "outputs": [
    {
     "name": "stderr",
     "output_type": "stream",
     "text": [
      "C:\\Users\\malag\\AppData\\Local\\Temp\\ipykernel_24116\\4073213511.py:1: DtypeWarning: Columns (4,5) have mixed types. Specify dtype option on import or set low_memory=False.\n",
      "  df_l = pd.read_csv(\"lyrics.csv\")\n"
     ]
    }
   ],
   "source": [
    "df_l = pd.read_csv(\"lyrics.csv\")\n",
    "df_g = pd.read_csv(\"songsbyGenrePages.csv\")\n",
    "data_lyrics(df_l, df_g, 3, False,3)\n",
    "# df_l = pd.read_csv(\"lyrics.csv\")\n",
    "# df_g = pd.read_csv(\"songsbyGenrePages.csv\")\n",
    "# data_lyrics(df_l, df_g, 3, False)"
   ]
  },
  {
   "cell_type": "code",
   "execution_count": 11,
   "metadata": {},
   "outputs": [
    {
     "name": "stdout",
     "output_type": "stream",
     "text": [
      "(151275, 6)\n"
     ]
    },
    {
     "data": {
      "text/html": [
       "<div>\n",
       "<style scoped>\n",
       "    .dataframe tbody tr th:only-of-type {\n",
       "        vertical-align: middle;\n",
       "    }\n",
       "\n",
       "    .dataframe tbody tr th {\n",
       "        vertical-align: top;\n",
       "    }\n",
       "\n",
       "    .dataframe thead th {\n",
       "        text-align: right;\n",
       "    }\n",
       "</style>\n",
       "<table border=\"1\" class=\"dataframe\">\n",
       "  <thead>\n",
       "    <tr style=\"text-align: right;\">\n",
       "      <th></th>\n",
       "      <th>artist_name</th>\n",
       "      <th>song_title</th>\n",
       "      <th>song_runtime</th>\n",
       "      <th>song_year</th>\n",
       "      <th>song_word_count</th>\n",
       "      <th>song_genre</th>\n",
       "    </tr>\n",
       "  </thead>\n",
       "  <tbody>\n",
       "    <tr>\n",
       "      <th>0</th>\n",
       "      <td>a band of bees</td>\n",
       "      <td>the rip on track</td>\n",
       "      <td>00:04:37</td>\n",
       "      <td>0</td>\n",
       "      <td>122</td>\n",
       "      <td>NaN</td>\n",
       "    </tr>\n",
       "    <tr>\n",
       "      <th>1</th>\n",
       "      <td>a band of bees</td>\n",
       "      <td>left foot stepdown</td>\n",
       "      <td>00:04:06</td>\n",
       "      <td>0</td>\n",
       "      <td>201</td>\n",
       "      <td>NaN</td>\n",
       "    </tr>\n",
       "    <tr>\n",
       "      <th>2</th>\n",
       "      <td>a band of bees</td>\n",
       "      <td>horsemen</td>\n",
       "      <td>00:03:28</td>\n",
       "      <td>0</td>\n",
       "      <td>238</td>\n",
       "      <td>NaN</td>\n",
       "    </tr>\n",
       "    <tr>\n",
       "      <th>3</th>\n",
       "      <td>a band of bees</td>\n",
       "      <td>chicken payback madlibs soul distortion vocal ...</td>\n",
       "      <td>00:00:00</td>\n",
       "      <td>0</td>\n",
       "      <td>283</td>\n",
       "      <td>NaN</td>\n",
       "    </tr>\n",
       "    <tr>\n",
       "      <th>4</th>\n",
       "      <td>a band of bees</td>\n",
       "      <td>these are the ghosts</td>\n",
       "      <td>00:03:08</td>\n",
       "      <td>0</td>\n",
       "      <td>174</td>\n",
       "      <td>NaN</td>\n",
       "    </tr>\n",
       "  </tbody>\n",
       "</table>\n",
       "</div>"
      ],
      "text/plain": [
       "      artist_name                                         song_title  \\\n",
       "0  a band of bees                                   the rip on track   \n",
       "1  a band of bees                                 left foot stepdown   \n",
       "2  a band of bees                                           horsemen   \n",
       "3  a band of bees  chicken payback madlibs soul distortion vocal ...   \n",
       "4  a band of bees                               these are the ghosts   \n",
       "\n",
       "  song_runtime  song_year  song_word_count song_genre  \n",
       "0     00:04:37          0              122        NaN  \n",
       "1     00:04:06          0              201        NaN  \n",
       "2     00:03:28          0              238        NaN  \n",
       "3     00:00:00          0              283        NaN  \n",
       "4     00:03:08          0              174        NaN  "
      ]
     },
     "execution_count": 11,
     "metadata": {},
     "output_type": "execute_result"
    }
   ],
   "source": [
    "df6 = pd.read_csv(\"model_input_covariates.csv\")\n",
    "print(df6.shape)\n",
    "df6.head()"
   ]
  },
  {
   "cell_type": "code",
   "execution_count": 4,
   "metadata": {},
   "outputs": [
    {
     "name": "stdout",
     "output_type": "stream",
     "text": [
      "Length of lyrics file:  1123907\n",
      "Length of genre file:  211032\n",
      "Song Lyrics N/A (error): 389376\n",
      "Song Lyrics not found 42942\n",
      "Song Lyrics not scraped: 346434\n",
      "Song Runtime not scraped: 75331\n",
      "Song Year not scraped: 738538\n"
     ]
    }
   ],
   "source": [
    "print(\"Length of lyrics file: \", len(df_l))\n",
    "\n",
    "print(\"Length of genre file: \", len(df_g))\n",
    "\n",
    "print(\"Song Lyrics N/A (error):\", df_l['song_lyrics'].isnull().sum())\n",
    "\n",
    "sl_not_found = (df_l['song_lyrics'] == 'Not found').sum()\n",
    "print(\"Song Lyrics not found\", sl_not_found)\n",
    "\n",
    "print(\"Song Lyrics not scraped:\", df_l['song_lyrics'].isnull().sum() - sl_not_found)\n",
    "\n",
    "print(\"Song Runtime not scraped:\", (df_l['song_runtime'] == 0).sum())\n",
    "\n",
    "print(\"Song Year not scraped:\", df_l['song_year'].isnull().sum())"
   ]
  }
 ],
 "metadata": {
  "kernelspec": {
   "display_name": "Python 3",
   "language": "python",
   "name": "python3"
  },
  "language_info": {
   "codemirror_mode": {
    "name": "ipython",
    "version": 3
   },
   "file_extension": ".py",
   "mimetype": "text/x-python",
   "name": "python",
   "nbconvert_exporter": "python",
   "pygments_lexer": "ipython3",
   "version": "3.8.8"
  },
  "vscode": {
   "interpreter": {
    "hash": "abf27ec6fec7505b822e70c19f8a19d8e1f4328c6ef67d713fb7f6f7f9197900"
   }
  }
 },
 "nbformat": 4,
 "nbformat_minor": 2
}
